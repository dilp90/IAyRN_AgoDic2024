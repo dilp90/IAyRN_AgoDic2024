{
  "nbformat": 4,
  "nbformat_minor": 0,
  "metadata": {
    "colab": {
      "provenance": [],
      "authorship_tag": "ABX9TyPA5oiaEzH+quAru50kyeba",
      "include_colab_link": true
    },
    "kernelspec": {
      "name": "python3",
      "display_name": "Python 3"
    },
    "language_info": {
      "name": "python"
    }
  },
  "cells": [
    {
      "cell_type": "markdown",
      "metadata": {
        "id": "view-in-github",
        "colab_type": "text"
      },
      "source": [
        "<a href=\"https://colab.research.google.com/github/dilp90/IAyRN_AgoDic2024/blob/main/NotebookDanielLopez.ipynb\" target=\"_parent\"><img src=\"https://colab.research.google.com/assets/colab-badge.svg\" alt=\"Open In Colab\"/></a>"
      ]
    },
    {
      "cell_type": "markdown",
      "source": [
        "# **Mi primer notebook**\n",
        "\n",
        "Hoy aprendí a usar Google Colab."
      ],
      "metadata": {
        "id": "x_xaZUTSpXUV"
      }
    },
    {
      "cell_type": "code",
      "source": [
        "print(\"¡Hola mundo!\")"
      ],
      "metadata": {
        "colab": {
          "base_uri": "https://localhost:8080/"
        },
        "id": "CoINMwfXqTh7",
        "outputId": "bc0578e6-b34e-4885-ef45-8dfc1dbeef02"
      },
      "execution_count": 2,
      "outputs": [
        {
          "output_type": "stream",
          "name": "stdout",
          "text": [
            "¡Hola mundo!\n"
          ]
        }
      ]
    }
  ]
}